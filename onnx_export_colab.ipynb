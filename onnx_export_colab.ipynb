{
  "nbformat": 4,
  "nbformat_minor": 0,
  "metadata": {
    "colab": {
      "provenance": []
    },
    "kernelspec": {
      "name": "python3",
      "display_name": "Python 3"
    },
    "language_info": {
      "name": "python"
    },
    "accelerator": "GPU",
    "gpuClass": "standard"
  },
  "cells": [
    {
      "cell_type": "code",
      "execution_count": 4,
      "metadata": {
        "colab": {
          "base_uri": "https://localhost:8080/"
        },
        "id": "dGGakX4IjOMl",
        "outputId": "3fd7f675-a5b7-4672-d645-14890cb3cd7b"
      },
      "outputs": [
        {
          "output_type": "stream",
          "name": "stdout",
          "text": [
            "Cloning into 'vits_web_demo'...\n",
            "remote: Enumerating objects: 773, done.\u001b[K\n",
            "remote: Counting objects: 100% (773/773), done.\u001b[K\n",
            "remote: Compressing objects: 100% (429/429), done.\u001b[K\n",
            "remote: Total 773 (delta 411), reused 667 (delta 309), pack-reused 0\u001b[K\n",
            "Receiving objects: 100% (773/773), 696.08 KiB | 123.00 KiB/s, done.\n",
            "Resolving deltas: 100% (411/411), done.\n"
          ]
        }
      ],
      "source": ["#Fork from https://gitee.com/ccdesue/vits_web_demo",
        "!git clone https://gitee.com/ccdesue/vits_web_demo\n",
        "%cd /content/vits_web_demo/export\n",
        "!pip install onnxruntime Cython\n",
        "#!pip install onnxruntime-gpu Cython\n",
        "!pip install -r requirements.txt"
      ]
    },
    {
      "cell_type": "code",
      "source": [
        "from google.colab import drive\n",
        "drive.mount('drive')"
      ],
      "metadata": {
        "id": "Zw76VV78mFVr"
      },
      "execution_count": null,
      "outputs": []
    },
    {
      "cell_type": "code",
      "source": [
        "!mkdir -p model"
      ],
      "metadata": {
        "id": "pJVWl50UmfMu"
      },
      "execution_count": 11,
      "outputs": []
    },
    {
      "cell_type": "code",
      "source": [
        "!python vits/export_onnx.py --checkpoint /content/drive/MyDrive/yout_checkpoint.pth --cfg /content/drive/MyDrive/config.json --onnx_model model/model.onnx"
      ],
      "metadata": {
        "colab": {
          "base_uri": "https://localhost:8080/"
        },
        "id": "yDsDdnZ8jafd",
        "outputId": "3fcdd905-b5d0-4a3a-9ca5-b5ab86e371e3"
      },
      "execution_count": 3,
      "outputs": [
        {
          "output_type": "stream",
          "name": "stdout",
          "text": [
            "Mounted at drive\n"
          ]
        }
      ]
    },
    {
      "cell_type": "code",
      "source": [
        "!pip install eng_to_ipa"
      ],
      "metadata": {
        "colab": {
          "base_uri": "https://localhost:8080/"
        },
        "id": "qrPAJs5VnLW8",
        "outputId": "74337963-041d-47cd-99e5-6e1ac6825823"
      },
      "execution_count": 13,
      "outputs": [
        {
          "output_type": "stream",
          "name": "stdout",
          "text": [
            "Looking in indexes: https://pypi.org/simple, https://us-python.pkg.dev/colab-wheels/public/simple/\n",
            "Collecting eng_to_ipa\n",
            "  Downloading eng_to_ipa-0.0.2.tar.gz (2.8 MB)\n",
            "\u001b[2K     \u001b[90m━━━━━━━━━━━━━━━━━━━━━━━━━━━━━━━━━━━━━━━━\u001b[0m \u001b[32m2.8/2.8 MB\u001b[0m \u001b[31m39.1 MB/s\u001b[0m eta \u001b[36m0:00:00\u001b[0m\n",
            "\u001b[?25h  Preparing metadata (setup.py) ... \u001b[?25l\u001b[?25hdone\n",
            "Building wheels for collected packages: eng_to_ipa\n",
            "  Building wheel for eng_to_ipa (setup.py) ... \u001b[?25l\u001b[?25hdone\n",
            "  Created wheel for eng_to_ipa: filename=eng_to_ipa-0.0.2-py3-none-any.whl size=2822641 sha256=a804f4025dc1a96ced83829f1e9d22fe35583162c12929ddad7cca988d748645\n",
            "  Stored in directory: /root/.cache/pip/wheels/5f/0a/16/f1b8092572a4e9633637f86725c1df149c2d0bfdd017d7601f\n",
            "Successfully built eng_to_ipa\n",
            "Installing collected packages: eng_to_ipa\n",
            "Successfully installed eng_to_ipa-0.0.2\n"
          ]
        }
      ]
    },
    {
      "cell_type": "code",
      "source": [
        "!python vits/inference_onnx.py --onnx_model model/model.onnx --cfg /content/drive/MyDrive/config.json  --test_file test.txt "
      ],
      "metadata": {
        "colab": {
          "base_uri": "https://localhost:8080/"
        },
        "id": "CtHsIIDdjalv",
        "outputId": "e9082e4a-4922-48c6-9a50-833cadb3e05a"
      },
      "execution_count": 18,
      "outputs": [
        {
          "output_type": "stream",
          "name": "stdout",
          "text": [
            "Namespace(cfg='/content/drive/MyDrive/config.json', onnx_model='model/model.onnx', outdir='onnx_output', test_file='test.txt')\n",
            "2023-02-11 08:49:55.901078176 [W:onnxruntime:Default, onnxruntime_pybind_state.cc:515 CreateExecutionProviderInstance] Failed to create TensorrtExecutionProvider. Please reference https://onnxruntime.ai/docs/execution-providers/TensorRT-ExecutionProvider.html#requirements to ensure all dependencies are met.\n",
            "Building prefix dict from the default dictionary ...\n",
            "DEBUG:jieba:Building prefix dict from the default dictionary ...\n",
            "Loading model from cache /tmp/jieba.cache\n",
            "DEBUG:jieba:Loading model from cache /tmp/jieba.cache\n",
            "Loading model cost 0.538 seconds.\n",
            "DEBUG:jieba:Loading model cost 0.538 seconds.\n",
            "Prefix dict has been built successfully.\n",
            "DEBUG:jieba:Prefix dict has been built successfully.\n",
            "infer time cost:  13.818922006000093 s\n"
          ]
        }
      ]
    }
  ]
}
